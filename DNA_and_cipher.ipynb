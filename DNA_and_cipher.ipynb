{
 "cells": [
  {
   "cell_type": "markdown",
   "metadata": {},
   "source": [
    "# DNA Translation \n"
   ]
  },
  {
   "cell_type": "markdown",
   "metadata": {},
   "source": [
    "## Introduction \n",
    "DNA translation is the final stage of gene expression process, where it takes the information passed from DNA as messenger RNA (mRNA) and turns it into a series of amino acids bound together with peptide bonds.\n",
    "## DNA Data \n",
    "In this case study we need to manually download the data. The data is available on <abbr title = \"National Center for Biotechnology Information\">[NCBI](https://www.ncbi.nlm.nih.gov/nuccore/NM_207618.2)</abbr>, which is the United State's main public repository of DNA related information. \n",
    "From this repository we will download, or rather copy paste, two files. The first is a strand of DNA and the second is the corresponding protein sequence of amino acids translated from this DNA. "
   ]
  },
  {
   "cell_type": "markdown",
   "metadata": {},
   "source": [
    "## Processing & Loading DNA Data "
   ]
  },
  {
   "cell_type": "markdown",
   "metadata": {},
   "source": [
    "While loading the DNA sequence, we need to remove some additional characters, which resulted from the copy pasting done while getting the data."
   ]
  },
  {
   "cell_type": "code",
   "execution_count": 1,
   "metadata": {},
   "outputs": [],
   "source": [
    "def read_seq(input_file):\n",
    "    \"\"\"Read and return the input sequence with special characters are removed\"\"\"\n",
    "    with open(input_file,\"r\") as f:\n",
    "        seq = f.read()\n",
    "    seq = seq.replace(\"\\n\",\"\") # \"\\n\" line break character \n",
    "    seq = seq.replace(\"\\r\",\"\") # \"\\r\" invisible control characters used by the applications for formatting text \n",
    "    return seq"
   ]
  },
  {
   "cell_type": "code",
   "execution_count": 2,
   "metadata": {},
   "outputs": [
    {
     "name": "stdout",
     "output_type": "stream",
     "text": [
      "MSTH\n",
      "GGTCAGAAAAAG\n"
     ]
    }
   ],
   "source": [
    "# reading data \n",
    "prt = read_seq(\"protein.txt\")\n",
    "print(prt[:4])\n",
    "dna = read_seq(\"dna.txt\")\n",
    "print(dna[:12]) # 4 proteins corresponds to 4 triplets of nucleotides"
   ]
  },
  {
   "cell_type": "markdown",
   "metadata": {},
   "source": [
    "## Translation "
   ]
  },
  {
   "cell_type": "code",
   "execution_count": 3,
   "metadata": {},
   "outputs": [],
   "source": [
    "def translate(seq):\n",
    "    \"\"\"translate a string containing a nucleotide sequence into a string containing the corresponding sequence of amino acids.\n",
    "        Nucleotides are translated in triplets using the dictionary table; each amino acid is encoded with a string of length 1.\n",
    "\n",
    "        args:\n",
    "            seq: the sequence to be translated \n",
    "        \n",
    "        returns:\n",
    "            protein: the sequence of amino acids which forms the protein molecule.\n",
    "\n",
    "    \"\"\"    \n",
    "    table = {\n",
    "        'ATA':'I', 'ATC':'I', 'ATT':'I', 'ATG':'M',\n",
    "        'ACA':'T', 'ACC':'T', 'ACG':'T', 'ACT':'T',\n",
    "        'AAC':'N', 'AAT':'N', 'AAA':'K', 'AAG':'K',\n",
    "        'AGC':'S', 'AGT':'S', 'AGA':'R', 'AGG':'R',\n",
    "        'CTA':'L', 'CTC':'L', 'CTG':'L', 'CTT':'L',\n",
    "        'CCA':'P', 'CCC':'P', 'CCG':'P', 'CCT':'P',\n",
    "        'CAC':'H', 'CAT':'H', 'CAA':'Q', 'CAG':'Q',\n",
    "        'CGA':'R', 'CGC':'R', 'CGG':'R', 'CGT':'R',\n",
    "        'GTA':'V', 'GTC':'V', 'GTG':'V', 'GTT':'V',\n",
    "        'GCA':'A', 'GCC':'A', 'GCG':'A', 'GCT':'A',\n",
    "        'GAC':'D', 'GAT':'D', 'GAA':'E', 'GAG':'E',\n",
    "        'GGA':'G', 'GGC':'G', 'GGG':'G', 'GGT':'G',\n",
    "        'TCA':'S', 'TCC':'S', 'TCG':'S', 'TCT':'S',\n",
    "        'TTC':'F', 'TTT':'F', 'TTA':'L', 'TTG':'L',\n",
    "        'TAC':'Y', 'TAT':'Y', 'TAA':'_', 'TAG':'_',\n",
    "        'TGC':'C', 'TGT':'C', 'TGA':'_', 'TGG':'W',\n",
    "    }\n",
    "    protein = \"\"\n",
    "    if len(seq) % 3 == 0:\n",
    "        for i in range(0,len(seq),3):\n",
    "            codon = seq[i:i+3]\n",
    "            protein += table[codon] \n",
    "\n",
    "    return protein"
   ]
  },
  {
   "cell_type": "markdown",
   "metadata": {},
   "source": [
    "> **Note**: The function returns an empty string if the sequence is not divisible by 3, meaning that the sequence is not complete."
   ]
  },
  {
   "cell_type": "code",
   "execution_count": 4,
   "metadata": {},
   "outputs": [
    {
     "name": "stdout",
     "output_type": "stream",
     "text": [
      "2\n"
     ]
    }
   ],
   "source": [
    "# let's consider the safety procedures \n",
    "print(len(dna)%3) "
   ]
  },
  {
   "cell_type": "markdown",
   "metadata": {},
   "source": [
    "So, the `translate()` function is not applicable to the current DNA sequence, because it's not complete. If we came back and looked at the CDS (coding sequence) section in the NCBI website, we will find that the translating has been performed starting from location **21** up to **938** from the DNA sequence. If we investigate the website, we will find that the indexing starts at position **1** up to **1157**.\n"
   ]
  },
  {
   "cell_type": "code",
   "execution_count": 5,
   "metadata": {},
   "outputs": [
    {
     "name": "stdout",
     "output_type": "stream",
     "text": [
      "0\n"
     ]
    }
   ],
   "source": [
    "dna_new = dna[20:938] # note that the end index has not been decremented \n",
    "print(len(dna_new)%3) # we are ready to go :)"
   ]
  },
  {
   "cell_type": "code",
   "execution_count": 6,
   "metadata": {},
   "outputs": [
    {
     "name": "stdout",
     "output_type": "stream",
     "text": [
      "False\n",
      "KGPCSVFFNC_\n",
      "KGPCSVFFNC\n"
     ]
    }
   ],
   "source": [
    "trans_prt = translate(dna_new)\n",
    "print(trans_prt == prt)\n",
    "print(trans_prt[-11:])\n",
    "print(prt[-10:])"
   ]
  },
  {
   "cell_type": "markdown",
   "metadata": {},
   "source": [
    "If we look at the tails of the protein sequences, we will find that both are identical, except that the sequence generated by our `translate()` function contains an underscore at the end of it; this is called a stop codon, which is similar to the dot at the end of a paragraph. This what happen in nature when synthesizing the protein. this character is not included in the coding sequence we have got from the website, so we need to not include the stop codon in our translation.\n"
   ]
  },
  {
   "cell_type": "code",
   "execution_count": 7,
   "metadata": {},
   "outputs": [
    {
     "name": "stdout",
     "output_type": "stream",
     "text": [
      "True\n"
     ]
    }
   ],
   "source": [
    "trans_prt = translate(dna[20:935]) # excluding the stop codon \n",
    "print(trans_prt == prt) # done :)"
   ]
  },
  {
   "cell_type": "markdown",
   "metadata": {},
   "source": [
    "So, the main idea behind DNA translation is **decoding** sequences. We can extend this idea and apply it in many different contexts like constructing a **cipher decoder/encoder**. Let's take a look.  "
   ]
  },
  {
   "cell_type": "markdown",
   "metadata": {},
   "source": [
    "# Cipher Decoder/Encoder "
   ]
  },
  {
   "cell_type": "markdown",
   "metadata": {},
   "source": [
    "A cipher is a secret code for a language. We will explore a cipher that is reported by contemporary Greek historians to have been used by Julius Caesar to send secret messages to generals during times of war. \n",
    "\n",
    "The Caesar cipher shifts each letter of a message to another letter in the alphabet located a fixed distance from the original letter. If our encryption key were `1`, we would shift `h` to the next letter `i`, `i` to the next letter `j`, and so on. If we reach the end of the alphabet, which for us is the space character, we simply loop back to `a`. To decode the message, we make a similar shift, except we move the same number of steps backwards in the alphabet.\n",
    "\n",
    "In the following few cells, we will create our own Caesar cipher, as well as a message decoder for this cipher. "
   ]
  },
  {
   "cell_type": "markdown",
   "metadata": {},
   "source": [
    "## Alphabets Letters  "
   ]
  },
  {
   "cell_type": "code",
   "execution_count": 8,
   "metadata": {},
   "outputs": [
    {
     "data": {
      "text/plain": [
       "27"
      ]
     },
     "execution_count": 8,
     "metadata": {},
     "output_type": "execute_result"
    }
   ],
   "source": [
    "import string \n",
    "uppercase_letters = string.ascii_uppercase\n",
    "lowercase_letters = string.ascii_lowercase\n",
    "upper_alphabet = \" \" + uppercase_letters \n",
    "lower_alphabet = \" \" + lowercase_letters\n",
    "alphabet = [lower_alphabet,upper_alphabet]\n",
    "len(alphabet[0]) "
   ]
  },
  {
   "cell_type": "markdown",
   "metadata": {},
   "source": [
    "Next, we will construct a dictionary of 2 nested dictionaries, where each nested dictionary has keys consisting of the characters in corresponding alphabet and values consisting of the numbers from 0 to 26"
   ]
  },
  {
   "cell_type": "code",
   "execution_count": 9,
   "metadata": {},
   "outputs": [
    {
     "name": "stdout",
     "output_type": "stream",
     "text": [
      "{' ': 0, 'a': 1, 'b': 2, 'c': 3, 'd': 4, 'e': 5, 'f': 6, 'g': 7, 'h': 8, 'i': 9, 'j': 10, 'k': 11, 'l': 12, 'm': 13, 'n': 14, 'o': 15, 'p': 16, 'q': 17, 'r': 18, 's': 19, 't': 20, 'u': 21, 'v': 22, 'w': 23, 'x': 24, 'y': 25, 'z': 26}\n",
      "{' ': 0, 'A': 1, 'B': 2, 'C': 3, 'D': 4, 'E': 5, 'F': 6, 'G': 7, 'H': 8, 'I': 9, 'J': 10, 'K': 11, 'L': 12, 'M': 13, 'N': 14, 'O': 15, 'P': 16, 'Q': 17, 'R': 18, 'S': 19, 'T': 20, 'U': 21, 'V': 22, 'W': 23, 'X': 24, 'Y': 25, 'Z': 26}\n"
     ]
    }
   ],
   "source": [
    "lookup = dict()\n",
    "for i,alph in enumerate([\"lower\",\"upper\"]):\n",
    "        # creating dictionary from list of tuples \n",
    "        lookup[alph] = dict(zip(alphabet[i],range(len(alphabet[i]))))\n",
    "        \n",
    "\n",
    "print(lookup[\"lower\"])\n",
    "print(lookup[\"upper\"])"
   ]
  },
  {
   "cell_type": "markdown",
   "metadata": {},
   "source": [
    "## Caesar Cipher\n",
    "let's encode a message with a Caesar cipher. \n"
   ]
  },
  {
   "cell_type": "code",
   "execution_count": 15,
   "metadata": {},
   "outputs": [
    {
     "name": "stdout",
     "output_type": "stream",
     "text": [
      "Ij, nz obnf jt Zpvttfg\n"
     ]
    }
   ],
   "source": [
    "message = \"Hi, my name is Youssef\"\n",
    "def encode(message, alphabet, lookup,key=1):\n",
    "    \"\"\"Encode given message with caesar cipher. \n",
    "\n",
    "        args:\n",
    "            message: the message to be encoded \n",
    "            alphabet: a list of the following definition: [\"lower_alphabet\",\"upper_alphabet\"]\n",
    "            lookup: a dictionary of two nested dictionaries, each nested dictionary\n",
    "            alphabet characters (either lowercase or uppercase) as keys and the values \n",
    "            of the corresponding indices.\n",
    "            key: encryption key of the shift-based encoding system\n",
    "\n",
    "        returns: \n",
    "            encoded_message: the caesar cipher version of the message.  \n",
    "    \"\"\"\n",
    "    encoded_message = \"\" \n",
    "    for char in message:\n",
    "        if not char.isalpha():\n",
    "            encoded_message += char\n",
    "        elif char.isupper():\n",
    "            result = (lookup[\"upper\"][char] + key) % 27 # to guarantee that all in the same range \n",
    "            encoded_message += alphabet[1][result] # at index 1 is upper alphabet\n",
    "        else:\n",
    "            result = (lookup[\"lower\"][char] + key) % 27\n",
    "            encoded_message += alphabet[0][result] # at index 0 is lower alphabet\n",
    "    return encoded_message\n",
    "\n",
    "first_encoded_message = encode(message,alphabet,lookup)\n",
    "print(first_encoded_message)\n",
    "second_encoded_message = encode(message,alphabet,lookup,3)\n",
    "print(second_encoded_message)"
   ]
  },
  {
   "cell_type": "markdown",
   "metadata": {},
   "source": [
    "## Generic Shift-based Encryption System  "
   ]
  },
  {
   "cell_type": "markdown",
   "metadata": {},
   "source": [
    "With the help of above function, we can perform a decoder to any shift-based encryption system given its encryption key by reversing the direction of shifting."
   ]
  },
  {
   "cell_type": "code",
   "execution_count": 16,
   "metadata": {},
   "outputs": [
    {
     "name": "stdout",
     "output_type": "stream",
     "text": [
      "Hi, my name is Youssef\n",
      "Hi, my name is Youssef\n"
     ]
    }
   ],
   "source": [
    "first_decoded_message = encode(first_encoded_message,alphabet,lookup,-1)\n",
    "second_decoded_message = encode(second_encoded_message,alphabet,lookup,-3)\n",
    "print(first_decoded_message)\n",
    "print(second_decoded_message)"
   ]
  },
  {
   "cell_type": "code",
   "execution_count": null,
   "metadata": {},
   "outputs": [],
   "source": []
  }
 ],
 "metadata": {
  "kernelspec": {
   "display_name": "Python 3 (ipykernel)",
   "language": "python",
   "name": "python3"
  },
  "orig_nbformat": 4
 },
 "nbformat": 4,
 "nbformat_minor": 2
}
